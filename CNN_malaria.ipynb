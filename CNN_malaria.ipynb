{
 "cells": [
  {
   "cell_type": "code",
   "execution_count": 1,
   "id": "d49bbba8",
   "metadata": {},
   "outputs": [],
   "source": [
    "import os"
   ]
  },
  {
   "cell_type": "code",
   "execution_count": 2,
   "id": "4269a17b",
   "metadata": {},
   "outputs": [],
   "source": [
    "data_dir = 'C:\\\\Users\\\\hp\\\\Downloads\\\\cell_images\\\\cell_images'"
   ]
  },
  {
   "cell_type": "code",
   "execution_count": 3,
   "id": "6d094be3",
   "metadata": {},
   "outputs": [
    {
     "data": {
      "text/plain": [
       "['test', 'train']"
      ]
     },
     "execution_count": 3,
     "metadata": {},
     "output_type": "execute_result"
    }
   ],
   "source": [
    "os.listdir(data_dir)"
   ]
  },
  {
   "cell_type": "code",
   "execution_count": 4,
   "id": "9799fe92",
   "metadata": {},
   "outputs": [],
   "source": [
    "import pandas as pd\n",
    "import numpy as np\n",
    "import seaborn as sns\n",
    "import matplotlib.pyplot as plt\n",
    "%matplotlib inline"
   ]
  },
  {
   "cell_type": "code",
   "execution_count": 5,
   "id": "82a6cfa2",
   "metadata": {},
   "outputs": [],
   "source": [
    "from matplotlib.image import imread"
   ]
  },
  {
   "cell_type": "code",
   "execution_count": 6,
   "id": "0a44d705",
   "metadata": {},
   "outputs": [],
   "source": [
    "test_path = data_dir+'\\\\test\\\\'\n",
    "train_path = data_dir+'\\\\train\\\\' "
   ]
  },
  {
   "cell_type": "code",
   "execution_count": 7,
   "id": "80b4063a",
   "metadata": {},
   "outputs": [
    {
     "data": {
      "text/plain": [
       "'C:\\\\Users\\\\hp\\\\Downloads\\\\cell_images\\\\cell_images\\\\test\\\\'"
      ]
     },
     "execution_count": 7,
     "metadata": {},
     "output_type": "execute_result"
    }
   ],
   "source": [
    "test_path"
   ]
  },
  {
   "cell_type": "code",
   "execution_count": 8,
   "id": "ebde36bf",
   "metadata": {},
   "outputs": [
    {
     "data": {
      "text/plain": [
       "['parasitized', 'uninfected']"
      ]
     },
     "execution_count": 8,
     "metadata": {},
     "output_type": "execute_result"
    }
   ],
   "source": [
    "os.listdir(test_path)"
   ]
  },
  {
   "cell_type": "code",
   "execution_count": 9,
   "id": "e833ad4b",
   "metadata": {},
   "outputs": [
    {
     "data": {
      "text/plain": [
       "['parasitized', 'uninfected']"
      ]
     },
     "execution_count": 9,
     "metadata": {},
     "output_type": "execute_result"
    }
   ],
   "source": [
    "os.listdir(train_path)"
   ]
  },
  {
   "cell_type": "code",
   "execution_count": 10,
   "id": "c96d0ead",
   "metadata": {},
   "outputs": [
    {
     "data": {
      "text/plain": [
       "'C100P61ThinF_IMG_20150918_144104_cell_162.png'"
      ]
     },
     "execution_count": 10,
     "metadata": {},
     "output_type": "execute_result"
    }
   ],
   "source": [
    "os.listdir(train_path+'parasitized')[0]"
   ]
  },
  {
   "cell_type": "code",
   "execution_count": 11,
   "id": "8bc017b2",
   "metadata": {},
   "outputs": [],
   "source": [
    "para_cell = train_path+'parasitized\\\\'+'C100P61ThinF_IMG_20150918_144104_cell_162.png'"
   ]
  },
  {
   "cell_type": "code",
   "execution_count": 12,
   "id": "3deefc68",
   "metadata": {},
   "outputs": [
    {
     "data": {
      "text/plain": [
       "'C:\\\\Users\\\\hp\\\\Downloads\\\\cell_images\\\\cell_images\\\\train\\\\parasitized\\\\C100P61ThinF_IMG_20150918_144104_cell_162.png'"
      ]
     },
     "execution_count": 12,
     "metadata": {},
     "output_type": "execute_result"
    }
   ],
   "source": [
    "para_cell"
   ]
  },
  {
   "cell_type": "code",
   "execution_count": 13,
   "id": "0eb81d5c",
   "metadata": {},
   "outputs": [
    {
     "data": {
      "text/plain": [
       "array([[[0., 0., 0.],\n",
       "        [0., 0., 0.],\n",
       "        [0., 0., 0.],\n",
       "        ...,\n",
       "        [0., 0., 0.],\n",
       "        [0., 0., 0.],\n",
       "        [0., 0., 0.]],\n",
       "\n",
       "       [[0., 0., 0.],\n",
       "        [0., 0., 0.],\n",
       "        [0., 0., 0.],\n",
       "        ...,\n",
       "        [0., 0., 0.],\n",
       "        [0., 0., 0.],\n",
       "        [0., 0., 0.]],\n",
       "\n",
       "       [[0., 0., 0.],\n",
       "        [0., 0., 0.],\n",
       "        [0., 0., 0.],\n",
       "        ...,\n",
       "        [0., 0., 0.],\n",
       "        [0., 0., 0.],\n",
       "        [0., 0., 0.]],\n",
       "\n",
       "       ...,\n",
       "\n",
       "       [[0., 0., 0.],\n",
       "        [0., 0., 0.],\n",
       "        [0., 0., 0.],\n",
       "        ...,\n",
       "        [0., 0., 0.],\n",
       "        [0., 0., 0.],\n",
       "        [0., 0., 0.]],\n",
       "\n",
       "       [[0., 0., 0.],\n",
       "        [0., 0., 0.],\n",
       "        [0., 0., 0.],\n",
       "        ...,\n",
       "        [0., 0., 0.],\n",
       "        [0., 0., 0.],\n",
       "        [0., 0., 0.]],\n",
       "\n",
       "       [[0., 0., 0.],\n",
       "        [0., 0., 0.],\n",
       "        [0., 0., 0.],\n",
       "        ...,\n",
       "        [0., 0., 0.],\n",
       "        [0., 0., 0.],\n",
       "        [0., 0., 0.]]], dtype=float32)"
      ]
     },
     "execution_count": 13,
     "metadata": {},
     "output_type": "execute_result"
    }
   ],
   "source": [
    "imread(para_cell)"
   ]
  },
  {
   "cell_type": "code",
   "execution_count": 14,
   "id": "3ec78795",
   "metadata": {},
   "outputs": [
    {
     "data": {
      "text/plain": [
       "(148, 142, 3)"
      ]
     },
     "execution_count": 14,
     "metadata": {},
     "output_type": "execute_result"
    }
   ],
   "source": [
    "imread(para_cell).shape"
   ]
  },
  {
   "cell_type": "code",
   "execution_count": 15,
   "id": "bfe91bcc",
   "metadata": {},
   "outputs": [
    {
     "data": {
      "text/plain": [
       "<matplotlib.image.AxesImage at 0x1a8a2397990>"
      ]
     },
     "execution_count": 15,
     "metadata": {},
     "output_type": "execute_result"
    },
    {
     "data": {
      "image/png": "[encoded data removed]",
      "text/plain": [
       "<Figure size 640x480 with 1 Axes>"
      ]
     },
     "metadata": {},
     "output_type": "display_data"
    }
   ],
   "source": [
    "plt.imshow(imread(para_cell))"
   ]
  },
  {
   "cell_type": "code",
   "execution_count": 16,
   "id": "12db3772",
   "metadata": {},
   "outputs": [
    {
     "data": {
      "text/plain": [
       "'C100P61ThinF_IMG_20150918_144104_cell_128.png'"
      ]
     },
     "execution_count": 16,
     "metadata": {},
     "output_type": "execute_result"
    }
   ],
   "source": [
    "os.listdir(train_path+'uninfected')[0]"
   ]
  },
  {
   "cell_type": "code",
   "execution_count": 17,
   "id": "b0800c63",
   "metadata": {},
   "outputs": [],
   "source": [
    "uninfected_cell = train_path+'uninfected\\\\'+'C100P61ThinF_IMG_20150918_144104_cell_128.png'"
   ]
  },
  {
   "cell_type": "code",
   "execution_count": 18,
   "id": "e5d2dd9b",
   "metadata": {},
   "outputs": [
    {
     "data": {
      "text/plain": [
       "'C:\\\\Users\\\\hp\\\\Downloads\\\\cell_images\\\\cell_images\\\\train\\\\uninfected\\\\C100P61ThinF_IMG_20150918_144104_cell_128.png'"
      ]
     },
     "execution_count": 18,
     "metadata": {},
     "output_type": "execute_result"
    }
   ],
   "source": [
    "uninfected_cell"
   ]
  },
  {
   "cell_type": "code",
   "execution_count": 19,
   "id": "d3c8f8e4",
   "metadata": {},
   "outputs": [],
   "source": [
    "uninfected_cell = imread(uninfected_cell)"
   ]
  },
  {
   "cell_type": "code",
   "execution_count": 20,
   "id": "82c4b537",
   "metadata": {},
   "outputs": [
    {
     "data": {
      "text/plain": [
       "<matplotlib.image.AxesImage at 0x1a8a23e00d0>"
      ]
     },
     "execution_count": 20,
     "metadata": {},
     "output_type": "execute_result"
    },
    {
     "data": {
      "image/png": "[encoded data removed]",
      "text/plain": [
       "<Figure size 640x480 with 1 Axes>"
      ]
     },
     "metadata": {},
     "output_type": "display_data"
    }
   ],
   "source": [
    "plt.imshow(uninfected_cell)"
   ]
  },
  {
   "cell_type": "code",
   "execution_count": 21,
   "id": "b673c57c",
   "metadata": {},
   "outputs": [
    {
     "data": {
      "text/plain": [
       "(139, 160, 3)"
      ]
     },
     "execution_count": 21,
     "metadata": {},
     "output_type": "execute_result"
    }
   ],
   "source": [
    "uninfected_cell.shape"
   ]
  },
  {
   "cell_type": "code",
   "execution_count": 22,
   "id": "d94690ba",
   "metadata": {},
   "outputs": [
    {
     "data": {
      "text/plain": [
       "'C:\\\\Users\\\\hp\\\\Downloads\\\\FINAL_TF2_FILES\\\\TF_2_Notebooks_and_Data\\\\04-CNNs'"
      ]
     },
     "execution_count": 22,
     "metadata": {},
     "output_type": "execute_result"
    }
   ],
   "source": [
    "pwd"
   ]
  },
  {
   "cell_type": "code",
   "execution_count": 23,
   "id": "1d329af6",
   "metadata": {},
   "outputs": [
    {
     "data": {
      "text/plain": [
       "12480"
      ]
     },
     "execution_count": 23,
     "metadata": {},
     "output_type": "execute_result"
    }
   ],
   "source": [
    "len(os.listdir(train_path+'parasitized'))"
   ]
  },
  {
   "cell_type": "code",
   "execution_count": 24,
   "id": "8e5b6865",
   "metadata": {},
   "outputs": [
    {
     "data": {
      "text/plain": [
       "12480"
      ]
     },
     "execution_count": 24,
     "metadata": {},
     "output_type": "execute_result"
    }
   ],
   "source": [
    "len(os.listdir(train_path+'uninfected'))"
   ]
  },
  {
   "cell_type": "code",
   "execution_count": 25,
   "id": "c956dc32",
   "metadata": {},
   "outputs": [
    {
     "data": {
      "text/plain": [
       "1300"
      ]
     },
     "execution_count": 25,
     "metadata": {},
     "output_type": "execute_result"
    }
   ],
   "source": [
    "len(os.listdir(test_path+'parasitized'))"
   ]
  },
  {
   "cell_type": "code",
   "execution_count": 26,
   "id": "d3c42958",
   "metadata": {},
   "outputs": [
    {
     "data": {
      "text/plain": [
       "1300"
      ]
     },
     "execution_count": 26,
     "metadata": {},
     "output_type": "execute_result"
    }
   ],
   "source": [
    "len(os.listdir(test_path+'uninfected'))"
   ]
  },
  {
   "cell_type": "code",
   "execution_count": 27,
   "id": "ec0bd295",
   "metadata": {},
   "outputs": [],
   "source": [
    "dim1 = []\n",
    "dim2 = []\n",
    "\n",
    "for image_filename in os.listdir(test_path+'uninfected'):\n",
    "    \n",
    "    img = imread(test_path+'uninfected\\\\'+image_filename)\n",
    "    d1,d2,colors = img.shape\n",
    "    dim1.append(d1)\n",
    "    dim2.append(d2)"
   ]
  },
  {
   "cell_type": "code",
   "execution_count": 28,
   "id": "4d164d78",
   "metadata": {},
   "outputs": [
    {
     "data": {
      "text/plain": [
       "[118,\n",
       " 145,\n",
       " 151,\n",
       " 145,\n",
       " 139,\n",
       " 136,\n",
       " 160,\n",
       " 121,\n",
       " 142,\n",
       " 121,\n",
       " 100,\n",
       " 151,\n",
       " 139,\n",
       " 151,\n",
       " 112,\n",
       " 124,\n",
       " 145,\n",
       " 115,\n",
       " 166,\n",
       " 130,\n",
       " 133,\n",
       " 130,\n",
       " 136,\n",
       " 136,\n",
       " 124,\n",
       " 115,\n",
       " 142,\n",
       " 190,\n",
       " 151,\n",
       " 163,\n",
       " 112,\n",
       " 142,\n",
       " 151,\n",
       " 127,\n",
       " 142,\n",
       " 172,\n",
       " 151,\n",
       " 127,\n",
       " 154,\n",
       " 91,\n",
       " 124,\n",
       " 139,\n",
       " 124,\n",
       " 127,\n",
       " 148,\n",
       " 118,\n",
       " 148,\n",
       " 157,\n",
       " 139,\n",
       " 145,\n",
       " 154,\n",
       " 163,\n",
       " 148,\n",
       " 130,\n",
       " 160,\n",
       " 136,\n",
       " 121,\n",
       " 169,\n",
       " 145,\n",
       " 115,\n",
       " 106,\n",
       " 124,\n",
       " 130,\n",
       " 112,\n",
       " 124,\n",
       " 106,\n",
       " 112,\n",
       " 121,\n",
       " 100,\n",
       " 115,\n",
       " 136,\n",
       " 118,\n",
       " 127,\n",
       " 148,\n",
       " 130,\n",
       " 118,\n",
       " 124,\n",
       " 139,\n",
       " 133,\n",
       " 118,\n",
       " 121,\n",
       " 127,\n",
       " 136,\n",
       " 127,\n",
       " 124,\n",
       " 124,\n",
       " 136,\n",
       " 130,\n",
       " 130,\n",
       " 112,\n",
       " 127,\n",
       " 136,\n",
       " 130,\n",
       " 124,\n",
       " 130,\n",
       " 109,\n",
       " 169,\n",
       " 124,\n",
       " 142,\n",
       " 127,\n",
       " 106,\n",
       " 130,\n",
       " 97,\n",
       " 100,\n",
       " 145,\n",
       " 106,\n",
       " 148,\n",
       " 136,\n",
       " 136,\n",
       " 133,\n",
       " 121,\n",
       " 133,\n",
       " 136,\n",
       " 157,\n",
       " 133,\n",
       " 139,\n",
       " 127,\n",
       " 139,\n",
       " 151,\n",
       " 157,\n",
       " 148,\n",
       " 163,\n",
       " 145,\n",
       " 136,\n",
       " 127,\n",
       " 130,\n",
       " 160,\n",
       " 133,\n",
       " 130,\n",
       " 121,\n",
       " 136,\n",
       " 145,\n",
       " 121,\n",
       " 142,\n",
       " 148,\n",
       " 148,\n",
       " 127,\n",
       " 139,\n",
       " 148,\n",
       " 148,\n",
       " 151,\n",
       " 160,\n",
       " 154,\n",
       " 145,\n",
       " 139,\n",
       " 127,\n",
       " 121,\n",
       " 106,\n",
       " 106,\n",
       " 145,\n",
       " 112,\n",
       " 130,\n",
       " 124,\n",
       " 139,\n",
       " 145,\n",
       " 142,\n",
       " 151,\n",
       " 130,\n",
       " 118,\n",
       " 133,\n",
       " 154,\n",
       " 136,\n",
       " 139,\n",
       " 121,\n",
       " 142,\n",
       " 148,\n",
       " 136,\n",
       " 172,\n",
       " 124,\n",
       " 205,\n",
       " 175,\n",
       " 118,\n",
       " 127,\n",
       " 130,\n",
       " 124,\n",
       " 112,\n",
       " 142,\n",
       " 142,\n",
       " 106,\n",
       " 127,\n",
       " 118,\n",
       " 139,\n",
       " 139,\n",
       " 124,\n",
       " 121,\n",
       " 151,\n",
       " 139,\n",
       " 130,\n",
       " 124,\n",
       " 136,\n",
       " 151,\n",
       " 115,\n",
       " 130,\n",
       " 130,\n",
       " 121,\n",
       " 130,\n",
       " 106,\n",
       " 121,\n",
       " 145,\n",
       " 121,\n",
       " 151,\n",
       " 133,\n",
       " 139,\n",
       " 157,\n",
       " 145,\n",
       " 127,\n",
       " 166,\n",
       " 154,\n",
       " 133,\n",
       " 163,\n",
       " 127,\n",
       " 157,\n",
       " 127,\n",
       " 133,\n",
       " 166,\n",
       " 133,\n",
       " 127,\n",
       " 121,\n",
       " 136,\n",
       " 127,\n",
       " 118,\n",
       " 109,\n",
       " 94,\n",
       " 136,\n",
       " 139,\n",
       " 121,\n",
       " 115,\n",
       " 145,\n",
       " 94,\n",
       " 151,\n",
       " 148,\n",
       " 160,\n",
       " 139,\n",
       " 157,\n",
       " 139,\n",
       " 142,\n",
       " 106,\n",
       " 133,\n",
       " 136,\n",
       " 142,\n",
       " 151,\n",
       " 142,\n",
       " 175,\n",
       " 100,\n",
       " 127,\n",
       " 142,\n",
       " 124,\n",
       " 145,\n",
       " 145,\n",
       " 112,\n",
       " 130,\n",
       " 124,\n",
       " 106,\n",
       " 130,\n",
       " 121,\n",
       " 127,\n",
       " 100,\n",
       " 148,\n",
       " 115,\n",
       " 121,\n",
       " 115,\n",
       " 106,\n",
       " 127,\n",
       " 145,\n",
       " 160,\n",
       " 133,\n",
       " 142,\n",
       " 160,\n",
       " 115,\n",
       " 121,\n",
       " 133,\n",
       " 115,\n",
       " 112,\n",
       " 133,\n",
       " 112,\n",
       " 130,\n",
       " 130,\n",
       " 181,\n",
       " 118,\n",
       " 121,\n",
       " 139,\n",
       " 133,\n",
       " 115,\n",
       " 124,\n",
       " 133,\n",
       " 136,\n",
       " 133,\n",
       " 136,\n",
       " 136,\n",
       " 124,\n",
       " 121,\n",
       " 151,\n",
       " 145,\n",
       " 127,\n",
       " 106,\n",
       " 130,\n",
       " 145,\n",
       " 121,\n",
       " 112,\n",
       " 121,\n",
       " 103,\n",
       " 121,\n",
       " 109,\n",
       " 115,\n",
       " 118,\n",
       " 151,\n",
       " 139,\n",
       " 136,\n",
       " 148,\n",
       " 112,\n",
       " 127,\n",
       " 124,\n",
       " 112,\n",
       " 112,\n",
       " 130,\n",
       " 124,\n",
       " 115,\n",
       " 127,\n",
       " 118,\n",
       " 145,\n",
       " 130,\n",
       " 163,\n",
       " 133,\n",
       " 160,\n",
       " 148,\n",
       " 139,\n",
       " 142,\n",
       " 100,\n",
       " 133,\n",
       " 118,\n",
       " 130,\n",
       " 94,\n",
       " 133,\n",
       " 169,\n",
       " 118,\n",
       " 157,\n",
       " 124,\n",
       " 133,\n",
       " 148,\n",
       " 118,\n",
       " 115,\n",
       " 130,\n",
       " 133,\n",
       " 130,\n",
       " 133,\n",
       " 127,\n",
       " 130,\n",
       " 130,\n",
       " 118,\n",
       " 124,\n",
       " 118,\n",
       " 112,\n",
       " 145,\n",
       " 115,\n",
       " 118,\n",
       " 121,\n",
       " 121,\n",
       " 145,\n",
       " 121,\n",
       " 145,\n",
       " 130,\n",
       " 103,\n",
       " 112,\n",
       " 124,\n",
       " 106,\n",
       " 121,\n",
       " 118,\n",
       " 166,\n",
       " 118,\n",
       " 151,\n",
       " 112,\n",
       " 136,\n",
       " 124,\n",
       " 115,\n",
       " 130,\n",
       " 124,\n",
       " 121,\n",
       " 133,\n",
       " 100,\n",
       " 121,\n",
       " 118,\n",
       " 109,\n",
       " 112,\n",
       " 115,\n",
       " 121,\n",
       " 118,\n",
       " 118,\n",
       " 130,\n",
       " 115,\n",
       " 127,\n",
       " 121,\n",
       " 121,\n",
       " 166,\n",
       " 121,\n",
       " 124,\n",
       " 133,\n",
       " 142,\n",
       " 115,\n",
       " 130,\n",
       " 115,\n",
       " 103,\n",
       " 127,\n",
       " 118,\n",
       " 112,\n",
       " 118,\n",
       " 130,\n",
       " 121,\n",
       " 127,\n",
       " 142,\n",
       " 112,\n",
       " 139,\n",
       " 151,\n",
       " 133,\n",
       " 136,\n",
       " 133,\n",
       " 136,\n",
       " 118,\n",
       " 106,\n",
       " 127,\n",
       " 106,\n",
       " 109,\n",
       " 109,\n",
       " 139,\n",
       " 106,\n",
       " 94,\n",
       " 85,\n",
       " 97,\n",
       " 133,\n",
       " 109,\n",
       " 118,\n",
       " 121,\n",
       " 112,\n",
       " 121,\n",
       " 106,\n",
       " 112,\n",
       " 118,\n",
       " 157,\n",
       " 151,\n",
       " 127,\n",
       " 139,\n",
       " 136,\n",
       " 127,\n",
       " 133,\n",
       " 193,\n",
       " 217,\n",
       " 136,\n",
       " 136,\n",
       " 139,\n",
       " 142,\n",
       " 124,\n",
       " 115,\n",
       " 115,\n",
       " 124,\n",
       " 106,\n",
       " 118,\n",
       " 133,\n",
       " 118,\n",
       " 100,\n",
       " 103,\n",
       " 103,\n",
       " 109,\n",
       " 112,\n",
       " 124,\n",
       " 115,\n",
       " 139,\n",
       " 112,\n",
       " 124,\n",
       " 127,\n",
       " 109,\n",
       " 139,\n",
       " 100,\n",
       " 109,\n",
       " 103,\n",
       " 115,\n",
       " 112,\n",
       " 118,\n",
       " 127,\n",
       " 118,\n",
       " 130,\n",
       " 130,\n",
       " 130,\n",
       " 127,\n",
       " 130,\n",
       " 127,\n",
       " 115,\n",
       " 130,\n",
       " 127,\n",
       " 151,\n",
       " 145,\n",
       " 121,\n",
       " 163,\n",
       " 139,\n",
       " 133,\n",
       " 112,\n",
       " 115,\n",
       " 109,\n",
       " 112,\n",
       " 118,\n",
       " 100,\n",
       " 103,\n",
       " 172,\n",
       " 139,\n",
       " 133,\n",
       " 127,\n",
       " 106,\n",
       " 97,\n",
       " 94,\n",
       " 82,\n",
       " 106,\n",
       " 127,\n",
       " 109,\n",
       " 133,\n",
       " 118,\n",
       " 106,\n",
       " 91,\n",
       " 121,\n",
       " 148,\n",
       " 133,\n",
       " 151,\n",
       " 109,\n",
       " 178,\n",
       " 154,\n",
       " 145,\n",
       " 94,\n",
       " 97,\n",
       " 115,\n",
       " 124,\n",
       " 100,\n",
       " 70,\n",
       " 103,\n",
       " 109,\n",
       " 121,\n",
       " 130,\n",
       " 136,\n",
       " 142,\n",
       " 112,\n",
       " 118,\n",
       " 103,\n",
       " 133,\n",
       " 151,\n",
       " 172,\n",
       " 118,\n",
       " 133,\n",
       " 142,\n",
       " 154,\n",
       " 118,\n",
       " 103,\n",
       " 112,\n",
       " 139,\n",
       " 139,\n",
       " 124,\n",
       " 127,\n",
       " 136,\n",
       " 139,\n",
       " 121,\n",
       " 136,\n",
       " 163,\n",
       " 142,\n",
       " 130,\n",
       " 112,\n",
       " 109,\n",
       " 103,\n",
       " 115,\n",
       " 112,\n",
       " 190,\n",
       " 121,\n",
       " 124,\n",
       " 130,\n",
       " 112,\n",
       " 100,\n",
       " 100,\n",
       " 109,\n",
       " 106,\n",
       " 130,\n",
       " 109,\n",
       " 124,\n",
       " 124,\n",
       " 115,\n",
       " 79,\n",
       " 148,\n",
       " 157,\n",
       " 121,\n",
       " 160,\n",
       " 118,\n",
       " 124,\n",
       " 115,\n",
       " 130,\n",
       " 166,\n",
       " 133,\n",
       " 127,\n",
       " 103,\n",
       " 142,\n",
       " 142,\n",
       " 127,\n",
       " 121,\n",
       " 139,\n",
       " 148,\n",
       " 118,\n",
       " 130,\n",
       " 145,\n",
       " 130,\n",
       " 175,\n",
       " 127,\n",
       " 139,\n",
       " 166,\n",
       " 136,\n",
       " 139,\n",
       " 157,\n",
       " 115,\n",
       " 127,\n",
       " 127,\n",
       " 124,\n",
       " 145,\n",
       " 124,\n",
       " 124,\n",
       " 124,\n",
       " 142,\n",
       " 142,\n",
       " 133,\n",
       " 133,\n",
       " 142,\n",
       " 142,\n",
       " 136,\n",
       " 133,\n",
       " 169,\n",
       " 124,\n",
       " 130,\n",
       " 127,\n",
       " 136,\n",
       " 115,\n",
       " 118,\n",
       " 127,\n",
       " 106,\n",
       " 148,\n",
       " 136,\n",
       " 139,\n",
       " 136,\n",
       " 184,\n",
       " 142,\n",
       " 136,\n",
       " 121,\n",
       " 133,\n",
       " 118,\n",
       " 148,\n",
       " 121,\n",
       " 133,\n",
       " 127,\n",
       " 133,\n",
       " 88,\n",
       " 130,\n",
       " 124,\n",
       " 118,\n",
       " 112,\n",
       " 136,\n",
       " 124,\n",
       " 148,\n",
       " 106,\n",
       " 151,\n",
       " 148,\n",
       " 145,\n",
       " 133,\n",
       " 124,\n",
       " 124,\n",
       " 130,\n",
       " 121,\n",
       " 139,\n",
       " 121,\n",
       " 142,\n",
       " 118,\n",
       " 124,\n",
       " 115,\n",
       " 133,\n",
       " 124,\n",
       " 121,\n",
       " 115,\n",
       " 142,\n",
       " 136,\n",
       " 136,\n",
       " 154,\n",
       " 154,\n",
       " 127,\n",
       " 139,\n",
       " 148,\n",
       " 139,\n",
       " 160,\n",
       " 148,\n",
       " 145,\n",
       " 148,\n",
       " 112,\n",
       " 148,\n",
       " 136,\n",
       " 124,\n",
       " 133,\n",
       " 142,\n",
       " 145,\n",
       " 136,\n",
       " 118,\n",
       " 184,\n",
       " 124,\n",
       " 121,\n",
       " 136,\n",
       " 142,\n",
       " 145,\n",
       " 139,\n",
       " 145,\n",
       " 124,\n",
       " 124,\n",
       " 142,\n",
       " 133,\n",
       " 127,\n",
       " 121,\n",
       " 136,\n",
       " 139,\n",
       " 145,\n",
       " 115,\n",
       " 133,\n",
       " 139,\n",
       " 118,\n",
       " 112,\n",
       " 133,\n",
       " 133,\n",
       " 142,\n",
       " 121,\n",
       " 124,\n",
       " 154,\n",
       " 145,\n",
       " 121,\n",
       " 145,\n",
       " 145,\n",
       " 121,\n",
       " 127,\n",
       " 121,\n",
       " 133,\n",
       " 124,\n",
       " 139,\n",
       " 118,\n",
       " 121,\n",
       " 136,\n",
       " 139,\n",
       " 136,\n",
       " 139,\n",
       " 145,\n",
       " 127,\n",
       " 121,\n",
       " 106,\n",
       " 148,\n",
       " 115,\n",
       " 142,\n",
       " 112,\n",
       " 139,\n",
       " 142,\n",
       " 145,\n",
       " 130,\n",
       " 136,\n",
       " 145,\n",
       " 127,\n",
       " 139,\n",
       " 145,\n",
       " 127,\n",
       " 112,\n",
       " 106,\n",
       " 157,\n",
       " 139,\n",
       " 130,\n",
       " 127,\n",
       " 136,\n",
       " 142,\n",
       " 133,\n",
       " 118,\n",
       " 118,\n",
       " 145,\n",
       " 145,\n",
       " 136,\n",
       " 115,\n",
       " 118,\n",
       " 133,\n",
       " 133,\n",
       " 124,\n",
       " 139,\n",
       " 136,\n",
       " 115,\n",
       " 124,\n",
       " 118,\n",
       " 139,\n",
       " 115,\n",
       " 130,\n",
       " 124,\n",
       " 121,\n",
       " 118,\n",
       " 139,\n",
       " 130,\n",
       " 118,\n",
       " 121,\n",
       " 133,\n",
       " 121,\n",
       " 124,\n",
       " 133,\n",
       " 145,\n",
       " 127,\n",
       " 121,\n",
       " 130,\n",
       " 124,\n",
       " 133,\n",
       " 139,\n",
       " 124,\n",
       " 130,\n",
       " 130,\n",
       " 121,\n",
       " 130,\n",
       " 133,\n",
       " 124,\n",
       " 112,\n",
       " 115,\n",
       " 106,\n",
       " 124,\n",
       " 133,\n",
       " 121,\n",
       " 124,\n",
       " 112,\n",
       " 127,\n",
       " 127,\n",
       " 136,\n",
       " 136,\n",
       " 124,\n",
       " 154,\n",
       " 139,\n",
       " 136,\n",
       " 151,\n",
       " 103,\n",
       " 139,\n",
       " 130,\n",
       " 127,\n",
       " 127,\n",
       " 130,\n",
       " 124,\n",
       " 118,\n",
       " 106,\n",
       " 130,\n",
       " 118,\n",
       " 112,\n",
       " 112,\n",
       " 130,\n",
       " 130,\n",
       " 127,\n",
       " 121,\n",
       " 118,\n",
       " 124,\n",
       " 100,\n",
       " 130,\n",
       " 106,\n",
       " 139,\n",
       " 127,\n",
       " 136,\n",
       " 106,\n",
       " 118,\n",
       " 136,\n",
       " 118,\n",
       " 124,\n",
       " 109,\n",
       " 130,\n",
       " 157,\n",
       " 151,\n",
       " 163,\n",
       " 130,\n",
       " 130,\n",
       " 133,\n",
       " 160,\n",
       " 190,\n",
       " 127,\n",
       " 124,\n",
       " 133,\n",
       " 148,\n",
       " 127,\n",
       " 139,\n",
       " 145,\n",
       " 160,\n",
       " 121,\n",
       " 133,\n",
       " 154,\n",
       " 124,\n",
       " 127,\n",
       " 115,\n",
       " 133,\n",
       " 151,\n",
       " 139,\n",
       " 142,\n",
       " 127,\n",
       " 136,\n",
       " 151,\n",
       " 154,\n",
       " 130,\n",
       " 142,\n",
       " 190,\n",
       " 148,\n",
       " 127,\n",
       " 124,\n",
       " 163,\n",
       " 130,\n",
       " 124,\n",
       " 118,\n",
       " 133,\n",
       " 124,\n",
       " 106,\n",
       " 127,\n",
       " 145,\n",
       " 118,\n",
       " 178,\n",
       " 145,\n",
       " 142,\n",
       " 124,\n",
       " 106,\n",
       " 142,\n",
       " 109,\n",
       " 130,\n",
       " 121,\n",
       " 148,\n",
       " 106,\n",
       " 100,\n",
       " 118,\n",
       " 124,\n",
       " 145,\n",
       " 172,\n",
       " 133,\n",
       " 139,\n",
       " 118,\n",
       " 121,\n",
       " 133,\n",
       " 127,\n",
       " 121,\n",
       " 124,\n",
       " 136,\n",
       " 127,\n",
       " 139,\n",
       " 124,\n",
       " 109,\n",
       " 127,\n",
       " 139,\n",
       " 133,\n",
       " 118,\n",
       " 112,\n",
       " 109,\n",
       " 103,\n",
       " 136,\n",
       " 139,\n",
       " 154,\n",
       " 124,\n",
       " 73,\n",
       " 130,\n",
       " 100,\n",
       " 115,\n",
       " 112,\n",
       " 79,\n",
       " 112,\n",
       " 118,\n",
       " 124,\n",
       " 133,\n",
       " 136,\n",
       " 133,\n",
       " 136,\n",
       " 106,\n",
       " 130,\n",
       " 136,\n",
       " 142,\n",
       " 148,\n",
       " 124,\n",
       " 139,\n",
       " 124,\n",
       " 151,\n",
       " 139,\n",
       " 118,\n",
       " 127,\n",
       " 127,\n",
       " 148,\n",
       " 127,\n",
       " 121,\n",
       " 124,\n",
       " 136,\n",
       " 151,\n",
       " 124,\n",
       " 187,\n",
       " 115,\n",
       " 121,\n",
       " 115,\n",
       " 118,\n",
       " 130,\n",
       " 121,\n",
       " 136,\n",
       " 160,\n",
       " 127,\n",
       " 136,\n",
       " 124,\n",
       " 112,\n",
       " 121,\n",
       " 97,\n",
       " 109,\n",
       " 139,\n",
       " 118,\n",
       " 127,\n",
       " 103,\n",
       " 127,\n",
       " ...]"
      ]
     },
     "execution_count": 28,
     "metadata": {},
     "output_type": "execute_result"
    }
   ],
   "source": [
    "dim2"
   ]
  },
  {
   "cell_type": "code",
   "execution_count": 29,
   "id": "c7a08f85",
   "metadata": {},
   "outputs": [
    {
     "data": {
      "text/plain": [
       "<seaborn.axisgrid.JointGrid at 0x1a8a2449250>"
      ]
     },
     "execution_count": 29,
     "metadata": {},
     "output_type": "execute_result"
    },
    {
     "data": {
      "image/png": "[encoded data removed]",
      "text/plain": [
       "<Figure size 600x600 with 3 Axes>"
      ]
     },
     "metadata": {},
     "output_type": "display_data"
    }
   ],
   "source": [
    "sns.jointplot(x=dim1,y=dim2)"
   ]
  },
  {
   "cell_type": "code",
   "execution_count": 30,
   "id": "9b09bfe0",
   "metadata": {},
   "outputs": [
    {
     "data": {
      "text/plain": [
       "130.92538461538462"
      ]
     },
     "execution_count": 30,
     "metadata": {},
     "output_type": "execute_result"
    }
   ],
   "source": [
    "np.mean(dim1)"
   ]
  },
  {
   "cell_type": "code",
   "execution_count": 31,
   "id": "ff8e1991",
   "metadata": {},
   "outputs": [
    {
     "data": {
      "text/plain": [
       "130.75"
      ]
     },
     "execution_count": 31,
     "metadata": {},
     "output_type": "execute_result"
    }
   ],
   "source": [
    "np.mean(dim2)"
   ]
  },
  {
   "cell_type": "code",
   "execution_count": 32,
   "id": "4e8ff9c1",
   "metadata": {},
   "outputs": [],
   "source": [
    "image_shape = (130,130,3)"
   ]
  },
  {
   "cell_type": "code",
   "execution_count": 33,
   "id": "4c22a667",
   "metadata": {},
   "outputs": [
    {
     "data": {
      "text/plain": [
       "50700"
      ]
     },
     "execution_count": 33,
     "metadata": {},
     "output_type": "execute_result"
    }
   ],
   "source": [
    "130*130*3"
   ]
  },
  {
   "cell_type": "code",
   "execution_count": 34,
   "id": "07282bd8",
   "metadata": {},
   "outputs": [],
   "source": [
    "from tensorflow.keras.preprocessing.image import ImageDataGenerator"
   ]
  },
  {
   "cell_type": "code",
   "execution_count": 35,
   "id": "650c9158",
   "metadata": {},
   "outputs": [
    {
     "name": "stdout",
     "output_type": "stream",
     "text": [
      "Help on class ImageDataGenerator in module keras.src.legacy.preprocessing.image:\n",
      "\n",
      "class ImageDataGenerator(builtins.object)\n",
      " |  ImageDataGenerator(featurewise_center=False, samplewise_center=False, featurewise_std_normalization=False, samplewise_std_normalization=False, zca_whitening=False, zca_epsilon=1e-06, rotation_range=0, width_shift_range=0.0, height_shift_range=0.0, brightness_range=None, shear_range=0.0, zoom_range=0.0, channel_shift_range=0.0, fill_mode='nearest', cval=0.0, horizontal_flip=False, vertical_flip=False, rescale=None, preprocessing_function=None, data_format=None, validation_split=0.0, interpolation_order=1, dtype=None)\n",
      " |  \n",
      " |  DEPRECATED.\n",
      " |  \n",
      " |  Methods defined here:\n",
      " |  \n",
      " |  __init__(self, featurewise_center=False, samplewise_center=False, featurewise_std_normalization=False, samplewise_std_normalization=False, zca_whitening=False, zca_epsilon=1e-06, rotation_range=0, width_shift_range=0.0, height_shift_range=0.0, brightness_range=None, shear_range=0.0, zoom_range=0.0, channel_shift_range=0.0, fill_mode='nearest', cval=0.0, horizontal_flip=False, vertical_flip=False, rescale=None, preprocessing_function=None, data_format=None, validation_split=0.0, interpolation_order=1, dtype=None)\n",
      " |      Initialize self.  See help(type(self)) for accurate signature.\n",
      " |  \n",
      " |  apply_transform(self, x, transform_parameters)\n",
      " |      Applies a transformation to an image according to given parameters.\n",
      " |      \n",
      " |      Args:\n",
      " |          x: 3D tensor, single image.\n",
      " |          transform_parameters: Dictionary with string - parameter pairs\n",
      " |              describing the transformation.\n",
      " |              Currently, the following parameters\n",
      " |              from the dictionary are used:\n",
      " |              - `'theta'`: Float. Rotation angle in degrees.\n",
      " |              - `'tx'`: Float. Shift in the x direction.\n",
      " |              - `'ty'`: Float. Shift in the y direction.\n",
      " |              - `'shear'`: Float. Shear angle in degrees.\n",
      " |              - `'zx'`: Float. Zoom in the x direction.\n",
      " |              - `'zy'`: Float. Zoom in the y direction.\n",
      " |              - `'flip_horizontal'`: Boolean. Horizontal flip.\n",
      " |              - `'flip_vertical'`: Boolean. Vertical flip.\n",
      " |              - `'channel_shift_intensity'`: Float. Channel shift intensity.\n",
      " |              - `'brightness'`: Float. Brightness shift intensity.\n",
      " |      \n",
      " |      Returns:\n",
      " |          A transformed version of the input (same shape).\n",
      " |  \n",
      " |  fit(self, x, augment=False, rounds=1, seed=None)\n",
      " |      Fits the data generator to some sample data.\n",
      " |      \n",
      " |      This computes the internal data stats related to the\n",
      " |      data-dependent transformations, based on an array of sample data.\n",
      " |      \n",
      " |      Only required if `featurewise_center` or\n",
      " |      `featurewise_std_normalization` or `zca_whitening`\n",
      " |      are set to `True`.\n",
      " |      \n",
      " |      When `rescale` is set to a value, rescaling is applied to\n",
      " |      sample data before computing the internal data stats.\n",
      " |      \n",
      " |      Args:\n",
      " |          x: Sample data. Should have rank 4.\n",
      " |           In case of grayscale data,\n",
      " |           the channels axis should have value 1, in case\n",
      " |           of RGB data, it should have value 3, and in case\n",
      " |           of RGBA data, it should have value 4.\n",
      " |          augment: Boolean (default: False).\n",
      " |              Whether to fit on randomly augmented samples.\n",
      " |          rounds: Int (default: 1).\n",
      " |              If using data augmentation (`augment=True`),\n",
      " |              this is how many augmentation passes over the data to use.\n",
      " |          seed: Int (default: None). Random seed.\n",
      " |  \n",
      " |  flow(self, x, y=None, batch_size=32, shuffle=True, sample_weight=None, seed=None, save_to_dir=None, save_prefix='', save_format='png', ignore_class_split=False, subset=None)\n",
      " |  \n",
      " |  flow_from_dataframe(self, dataframe, directory=None, x_col='filename', y_col='class', weight_col=None, target_size=(256, 256), color_mode='rgb', classes=None, class_mode='categorical', batch_size=32, shuffle=True, seed=None, save_to_dir=None, save_prefix='', save_format='png', subset=None, interpolation='nearest', validate_filenames=True, **kwargs)\n",
      " |  \n",
      " |  flow_from_directory(self, directory, target_size=(256, 256), color_mode='rgb', classes=None, class_mode='categorical', batch_size=32, shuffle=True, seed=None, save_to_dir=None, save_prefix='', save_format='png', follow_links=False, subset=None, interpolation='nearest', keep_aspect_ratio=False)\n",
      " |  \n",
      " |  get_random_transform(self, img_shape, seed=None)\n",
      " |      Generates random parameters for a transformation.\n",
      " |      \n",
      " |      Args:\n",
      " |          img_shape: Tuple of integers.\n",
      " |              Shape of the image that is transformed.\n",
      " |          seed: Random seed.\n",
      " |      \n",
      " |      Returns:\n",
      " |          A dictionary containing randomly chosen parameters describing the\n",
      " |          transformation.\n",
      " |  \n",
      " |  random_transform(self, x, seed=None)\n",
      " |      Applies a random transformation to an image.\n",
      " |      \n",
      " |      Args:\n",
      " |          x: 3D tensor, single image.\n",
      " |          seed: Random seed.\n",
      " |      \n",
      " |      Returns:\n",
      " |          A randomly transformed version of the input (same shape).\n",
      " |  \n",
      " |  standardize(self, x)\n",
      " |      Applies the normalization configuration in-place to a batch of\n",
      " |      inputs.\n",
      " |      \n",
      " |      `x` is changed in-place since the function is mainly used internally\n",
      " |      to standardize images and feed them to your network. If a copy of `x`\n",
      " |      would be created instead it would have a significant performance cost.\n",
      " |      If you want to apply this method without changing the input in-place\n",
      " |      you can call the method creating a copy before:\n",
      " |      \n",
      " |      standardize(np.copy(x))\n",
      " |      \n",
      " |      Args:\n",
      " |          x: Batch of inputs to be normalized.\n",
      " |      \n",
      " |      Returns:\n",
      " |          The inputs, normalized.\n",
      " |  \n",
      " |  ----------------------------------------------------------------------\n",
      " |  Data descriptors defined here:\n",
      " |  \n",
      " |  __dict__\n",
      " |      dictionary for instance variables (if defined)\n",
      " |  \n",
      " |  __weakref__\n",
      " |      list of weak references to the object (if defined)\n",
      "\n"
     ]
    }
   ],
   "source": [
    "help(ImageDataGenerator)"
   ]
  },
  {
   "cell_type": "code",
   "execution_count": 36,
   "id": "a65d75eb",
   "metadata": {},
   "outputs": [
    {
     "data": {
      "text/plain": [
       "0.9098039"
      ]
     },
     "execution_count": 36,
     "metadata": {},
     "output_type": "execute_result"
    }
   ],
   "source": [
    "imread(para_cell).max()"
   ]
  },
  {
   "cell_type": "code",
   "execution_count": 37,
   "id": "58cde728",
   "metadata": {},
   "outputs": [],
   "source": [
    "image_gen = ImageDataGenerator(rotation_range=20,\n",
    "                              width_shift_range=0.1,\n",
    "                              height_shift_range=0.1,\n",
    "                              shear_range=0.1,\n",
    "                              zoom_range=0.1,\n",
    "                              horizontal_flip=True,\n",
    "                              fill_mode='nearest')"
   ]
  },
  {
   "cell_type": "code",
   "execution_count": 38,
   "id": "79bfc0d9",
   "metadata": {},
   "outputs": [
    {
     "data": {
      "text/plain": [
       "<matplotlib.image.AxesImage at 0x1a8ac296490>"
      ]
     },
     "execution_count": 38,
     "metadata": {},
     "output_type": "execute_result"
    },
    {
     "data": {
      "image/png": "[encoded data removed]",
      "text/plain": [
       "<Figure size 640x480 with 1 Axes>"
      ]
     },
     "metadata": {},
     "output_type": "display_data"
    }
   ],
   "source": [
    "plt.imshow(uninfected_cell)"
   ]
  },
  {
   "cell_type": "code",
   "execution_count": 39,
   "id": "df29d3c0",
   "metadata": {},
   "outputs": [
    {
     "data": {
      "text/plain": [
       "<matplotlib.image.AxesImage at 0x1a8a38806d0>"
      ]
     },
     "execution_count": 39,
     "metadata": {},
     "output_type": "execute_result"
    },
    {
     "data": {
      "image/png": "[encoded data removed]",
      "text/plain": [
       "<Figure size 640x480 with 1 Axes>"
      ]
     },
     "metadata": {},
     "output_type": "display_data"
    }
   ],
   "source": [
    "para_img = imread(para_cell)\n",
    "plt.imshow(para_img)"
   ]
  },
  {
   "cell_type": "code",
   "execution_count": 40,
   "id": "6ad6ebda",
   "metadata": {},
   "outputs": [
    {
     "data": {
      "text/plain": [
       "<matplotlib.image.AxesImage at 0x1a8ac4a8090>"
      ]
     },
     "execution_count": 40,
     "metadata": {},
     "output_type": "execute_result"
    },
    {
     "data": {
      "image/png": "[encoded data removed]",
      "text/plain": [
       "<Figure size 640x480 with 1 Axes>"
      ]
     },
     "metadata": {},
     "output_type": "display_data"
    }
   ],
   "source": [
    "plt.imshow(image_gen.random_transform(para_img))"
   ]
  },
  {
   "cell_type": "code",
   "execution_count": 41,
   "id": "ebd8dc6f",
   "metadata": {},
   "outputs": [
    {
     "data": {
      "text/plain": [
       "'C:\\\\Users\\\\hp\\\\Downloads\\\\cell_images\\\\cell_images\\\\train\\\\'"
      ]
     },
     "execution_count": 41,
     "metadata": {},
     "output_type": "execute_result"
    }
   ],
   "source": [
    "train_path"
   ]
  },
  {
   "cell_type": "code",
   "execution_count": 42,
   "id": "a93aeeb2",
   "metadata": {},
   "outputs": [
    {
     "name": "stdout",
     "output_type": "stream",
     "text": [
      "Found 24958 images belonging to 2 classes.\n"
     ]
    },
    {
     "data": {
      "text/plain": [
       "<keras.src.legacy.preprocessing.image.DirectoryIterator at 0x1a8ac2a0350>"
      ]
     },
     "execution_count": 42,
     "metadata": {},
     "output_type": "execute_result"
    }
   ],
   "source": [
    "image_gen.flow_from_directory(train_path)"
   ]
  },
  {
   "cell_type": "code",
   "execution_count": 43,
   "id": "09d9d36d",
   "metadata": {},
   "outputs": [
    {
     "name": "stdout",
     "output_type": "stream",
     "text": [
      "Found 2600 images belonging to 2 classes.\n"
     ]
    },
    {
     "data": {
      "text/plain": [
       "<keras.src.legacy.preprocessing.image.DirectoryIterator at 0x1a8ac51f6d0>"
      ]
     },
     "execution_count": 43,
     "metadata": {},
     "output_type": "execute_result"
    }
   ],
   "source": [
    "image_gen.flow_from_directory(test_path)"
   ]
  },
  {
   "cell_type": "code",
   "execution_count": 44,
   "id": "49cccce5",
   "metadata": {},
   "outputs": [],
   "source": [
    "from tensorflow.keras.models import Sequential"
   ]
  },
  {
   "cell_type": "code",
   "execution_count": 46,
   "id": "b2f359ef",
   "metadata": {},
   "outputs": [],
   "source": [
    "from tensorflow.keras.layers import Dense,Conv2D,MaxPool2D,Dropout,Flatten"
   ]
  },
  {
   "cell_type": "code",
   "execution_count": 63,
   "id": "14564543",
   "metadata": {},
   "outputs": [],
   "source": [
    "model = Sequential()\n",
    "\n",
    "model.add(Conv2D(filters=32,kernel_size=(3,3),input_shape=image_shape,\n",
    "                activation='relu'))\n",
    "model.add(MaxPool2D(pool_size=(2,2)))\n",
    "\n",
    "model.add(Conv2D(filters=32,kernel_size=(3,3),input_shape=image_shape,\n",
    "                activation='relu'))\n",
    "model.add(MaxPool2D(pool_size=(2,2)))\n",
    "\n",
    "model.add(Conv2D(filters=32,kernel_size=(3,3),input_shape=image_shape,\n",
    "                activation='relu'))\n",
    "model.add(MaxPool2D(pool_size=(2,2)))\n",
    "\n",
    "model.add(Flatten())\n",
    "\n",
    "model.add(Dense(128,activation='relu'))\n",
    "model.add(Dropout(0.5))\n",
    "\n",
    "model.add(Dense(1,activation='sigmoid'))\n",
    "\n",
    "model.compile(loss='binary_crossentropy',optimizer='adam',metrics=['accuracy'])"
   ]
  },
  {
   "cell_type": "code",
   "execution_count": 64,
   "id": "e0ba5d16",
   "metadata": {},
   "outputs": [
    {
     "data": {
      "text/html": [
       "<pre style=\"white-space:pre;overflow-x:auto;line-height:normal;font-family:Menlo,'DejaVu Sans Mono',consolas,'Courier New',monospace\"><span style=\"font-weight: bold\">Model: \"sequential_1\"</span>\n",
       "</pre>\n"
      ],
      "text/plain": [
       "\u001b[1mModel: \"sequential_1\"\u001b[0m\n"
      ]
     },
     "metadata": {},
     "output_type": "display_data"
    },
    {
     "data": {
      "text/html": [
       "<pre style=\"white-space:pre;overflow-x:auto;line-height:normal;font-family:Menlo,'DejaVu Sans Mono',consolas,'Courier New',monospace\">┏━━━━━━━━━━━━━━━━━━━━━━━━━━━━━━━━━━━━━━┳━━━━━━━━━━━━━━━━━━━━━━━━━━━━━┳━━━━━━━━━━━━━━━━━┓\n",
       "┃<span style=\"font-weight: bold\"> Layer (type)                         </span>┃<span style=\"font-weight: bold\"> Output Shape                </span>┃<span style=\"font-weight: bold\">         Param # </span>┃\n",
       "┡━━━━━━━━━━━━━━━━━━━━━━━━━━━━━━━━━━━━━━╇━━━━━━━━━━━━━━━━━━━━━━━━━━━━━╇━━━━━━━━━━━━━━━━━┩\n",
       "│ conv2d_3 (<span style=\"color: #0087ff; text-decoration-color: #0087ff\">Conv2D</span>)                    │ (<span style=\"color: #00d7ff; text-decoration-color: #00d7ff\">None</span>, <span style=\"color: #00af00; text-decoration-color: #00af00\">128</span>, <span style=\"color: #00af00; text-decoration-color: #00af00\">128</span>, <span style=\"color: #00af00; text-decoration-color: #00af00\">32</span>)        │             <span style=\"color: #00af00; text-decoration-color: #00af00\">896</span> │\n",
       "├──────────────────────────────────────┼─────────────────────────────┼─────────────────┤\n",
       "│ max_pooling2d_3 (<span style=\"color: #0087ff; text-decoration-color: #0087ff\">MaxPooling2D</span>)       │ (<span style=\"color: #00d7ff; text-decoration-color: #00d7ff\">None</span>, <span style=\"color: #00af00; text-decoration-color: #00af00\">64</span>, <span style=\"color: #00af00; text-decoration-color: #00af00\">64</span>, <span style=\"color: #00af00; text-decoration-color: #00af00\">32</span>)          │               <span style=\"color: #00af00; text-decoration-color: #00af00\">0</span> │\n",
       "├──────────────────────────────────────┼─────────────────────────────┼─────────────────┤\n",
       "│ conv2d_4 (<span style=\"color: #0087ff; text-decoration-color: #0087ff\">Conv2D</span>)                    │ (<span style=\"color: #00d7ff; text-decoration-color: #00d7ff\">None</span>, <span style=\"color: #00af00; text-decoration-color: #00af00\">62</span>, <span style=\"color: #00af00; text-decoration-color: #00af00\">62</span>, <span style=\"color: #00af00; text-decoration-color: #00af00\">32</span>)          │           <span style=\"color: #00af00; text-decoration-color: #00af00\">9,248</span> │\n",
       "├──────────────────────────────────────┼─────────────────────────────┼─────────────────┤\n",
       "│ max_pooling2d_4 (<span style=\"color: #0087ff; text-decoration-color: #0087ff\">MaxPooling2D</span>)       │ (<span style=\"color: #00d7ff; text-decoration-color: #00d7ff\">None</span>, <span style=\"color: #00af00; text-decoration-color: #00af00\">31</span>, <span style=\"color: #00af00; text-decoration-color: #00af00\">31</span>, <span style=\"color: #00af00; text-decoration-color: #00af00\">32</span>)          │               <span style=\"color: #00af00; text-decoration-color: #00af00\">0</span> │\n",
       "├──────────────────────────────────────┼─────────────────────────────┼─────────────────┤\n",
       "│ conv2d_5 (<span style=\"color: #0087ff; text-decoration-color: #0087ff\">Conv2D</span>)                    │ (<span style=\"color: #00d7ff; text-decoration-color: #00d7ff\">None</span>, <span style=\"color: #00af00; text-decoration-color: #00af00\">29</span>, <span style=\"color: #00af00; text-decoration-color: #00af00\">29</span>, <span style=\"color: #00af00; text-decoration-color: #00af00\">32</span>)          │           <span style=\"color: #00af00; text-decoration-color: #00af00\">9,248</span> │\n",
       "├──────────────────────────────────────┼─────────────────────────────┼─────────────────┤\n",
       "│ max_pooling2d_5 (<span style=\"color: #0087ff; text-decoration-color: #0087ff\">MaxPooling2D</span>)       │ (<span style=\"color: #00d7ff; text-decoration-color: #00d7ff\">None</span>, <span style=\"color: #00af00; text-decoration-color: #00af00\">14</span>, <span style=\"color: #00af00; text-decoration-color: #00af00\">14</span>, <span style=\"color: #00af00; text-decoration-color: #00af00\">32</span>)          │               <span style=\"color: #00af00; text-decoration-color: #00af00\">0</span> │\n",
       "├──────────────────────────────────────┼─────────────────────────────┼─────────────────┤\n",
       "│ flatten_1 (<span style=\"color: #0087ff; text-decoration-color: #0087ff\">Flatten</span>)                  │ (<span style=\"color: #00d7ff; text-decoration-color: #00d7ff\">None</span>, <span style=\"color: #00af00; text-decoration-color: #00af00\">6272</span>)                │               <span style=\"color: #00af00; text-decoration-color: #00af00\">0</span> │\n",
       "├──────────────────────────────────────┼─────────────────────────────┼─────────────────┤\n",
       "│ dense_2 (<span style=\"color: #0087ff; text-decoration-color: #0087ff\">Dense</span>)                      │ (<span style=\"color: #00d7ff; text-decoration-color: #00d7ff\">None</span>, <span style=\"color: #00af00; text-decoration-color: #00af00\">128</span>)                 │         <span style=\"color: #00af00; text-decoration-color: #00af00\">802,944</span> │\n",
       "├──────────────────────────────────────┼─────────────────────────────┼─────────────────┤\n",
       "│ dropout_1 (<span style=\"color: #0087ff; text-decoration-color: #0087ff\">Dropout</span>)                  │ (<span style=\"color: #00d7ff; text-decoration-color: #00d7ff\">None</span>, <span style=\"color: #00af00; text-decoration-color: #00af00\">128</span>)                 │               <span style=\"color: #00af00; text-decoration-color: #00af00\">0</span> │\n",
       "├──────────────────────────────────────┼─────────────────────────────┼─────────────────┤\n",
       "│ dense_3 (<span style=\"color: #0087ff; text-decoration-color: #0087ff\">Dense</span>)                      │ (<span style=\"color: #00d7ff; text-decoration-color: #00d7ff\">None</span>, <span style=\"color: #00af00; text-decoration-color: #00af00\">1</span>)                   │             <span style=\"color: #00af00; text-decoration-color: #00af00\">129</span> │\n",
       "└──────────────────────────────────────┴─────────────────────────────┴─────────────────┘\n",
       "</pre>\n"
      ],
      "text/plain": [
       "┏━━━━━━━━━━━━━━━━━━━━━━━━━━━━━━━━━━━━━━┳━━━━━━━━━━━━━━━━━━━━━━━━━━━━━┳━━━━━━━━━━━━━━━━━┓\n",
       "┃\u001b[1m \u001b[0m\u001b[1mLayer (type)                        \u001b[0m\u001b[1m \u001b[0m┃\u001b[1m \u001b[0m\u001b[1mOutput Shape               \u001b[0m\u001b[1m \u001b[0m┃\u001b[1m \u001b[0m\u001b[1m        Param #\u001b[0m\u001b[1m \u001b[0m┃\n",
       "┡━━━━━━━━━━━━━━━━━━━━━━━━━━━━━━━━━━━━━━╇━━━━━━━━━━━━━━━━━━━━━━━━━━━━━╇━━━━━━━━━━━━━━━━━┩\n",
       "│ conv2d_3 (\u001b[38;5;33mConv2D\u001b[0m)                    │ (\u001b[38;5;45mNone\u001b[0m, \u001b[38;5;34m128\u001b[0m, \u001b[38;5;34m128\u001b[0m, \u001b[38;5;34m32\u001b[0m)        │             \u001b[38;5;34m896\u001b[0m │\n",
       "├──────────────────────────────────────┼─────────────────────────────┼─────────────────┤\n",
       "│ max_pooling2d_3 (\u001b[38;5;33mMaxPooling2D\u001b[0m)       │ (\u001b[38;5;45mNone\u001b[0m, \u001b[38;5;34m64\u001b[0m, \u001b[38;5;34m64\u001b[0m, \u001b[38;5;34m32\u001b[0m)          │               \u001b[38;5;34m0\u001b[0m │\n",
       "├──────────────────────────────────────┼─────────────────────────────┼─────────────────┤\n",
       "│ conv2d_4 (\u001b[38;5;33mConv2D\u001b[0m)                    │ (\u001b[38;5;45mNone\u001b[0m, \u001b[38;5;34m62\u001b[0m, \u001b[38;5;34m62\u001b[0m, \u001b[38;5;34m32\u001b[0m)          │           \u001b[38;5;34m9,248\u001b[0m │\n",
       "├──────────────────────────────────────┼─────────────────────────────┼─────────────────┤\n",
       "│ max_pooling2d_4 (\u001b[38;5;33mMaxPooling2D\u001b[0m)       │ (\u001b[38;5;45mNone\u001b[0m, \u001b[38;5;34m31\u001b[0m, \u001b[38;5;34m31\u001b[0m, \u001b[38;5;34m32\u001b[0m)          │               \u001b[38;5;34m0\u001b[0m │\n",
       "├──────────────────────────────────────┼─────────────────────────────┼─────────────────┤\n",
       "│ conv2d_5 (\u001b[38;5;33mConv2D\u001b[0m)                    │ (\u001b[38;5;45mNone\u001b[0m, \u001b[38;5;34m29\u001b[0m, \u001b[38;5;34m29\u001b[0m, \u001b[38;5;34m32\u001b[0m)          │           \u001b[38;5;34m9,248\u001b[0m │\n",
       "├──────────────────────────────────────┼─────────────────────────────┼─────────────────┤\n",
       "│ max_pooling2d_5 (\u001b[38;5;33mMaxPooling2D\u001b[0m)       │ (\u001b[38;5;45mNone\u001b[0m, \u001b[38;5;34m14\u001b[0m, \u001b[38;5;34m14\u001b[0m, \u001b[38;5;34m32\u001b[0m)          │               \u001b[38;5;34m0\u001b[0m │\n",
       "├──────────────────────────────────────┼─────────────────────────────┼─────────────────┤\n",
       "│ flatten_1 (\u001b[38;5;33mFlatten\u001b[0m)                  │ (\u001b[38;5;45mNone\u001b[0m, \u001b[38;5;34m6272\u001b[0m)                │               \u001b[38;5;34m0\u001b[0m │\n",
       "├──────────────────────────────────────┼─────────────────────────────┼─────────────────┤\n",
       "│ dense_2 (\u001b[38;5;33mDense\u001b[0m)                      │ (\u001b[38;5;45mNone\u001b[0m, \u001b[38;5;34m128\u001b[0m)                 │         \u001b[38;5;34m802,944\u001b[0m │\n",
       "├──────────────────────────────────────┼─────────────────────────────┼─────────────────┤\n",
       "│ dropout_1 (\u001b[38;5;33mDropout\u001b[0m)                  │ (\u001b[38;5;45mNone\u001b[0m, \u001b[38;5;34m128\u001b[0m)                 │               \u001b[38;5;34m0\u001b[0m │\n",
       "├──────────────────────────────────────┼─────────────────────────────┼─────────────────┤\n",
       "│ dense_3 (\u001b[38;5;33mDense\u001b[0m)                      │ (\u001b[38;5;45mNone\u001b[0m, \u001b[38;5;34m1\u001b[0m)                   │             \u001b[38;5;34m129\u001b[0m │\n",
       "└──────────────────────────────────────┴─────────────────────────────┴─────────────────┘\n"
      ]
     },
     "metadata": {},
     "output_type": "display_data"
    },
    {
     "data": {
      "text/html": [
       "<pre style=\"white-space:pre;overflow-x:auto;line-height:normal;font-family:Menlo,'DejaVu Sans Mono',consolas,'Courier New',monospace\"><span style=\"font-weight: bold\"> Total params: </span><span style=\"color: #00af00; text-decoration-color: #00af00\">822,465</span> (3.14 MB)\n",
       "</pre>\n"
      ],
      "text/plain": [
       "\u001b[1m Total params: \u001b[0m\u001b[38;5;34m822,465\u001b[0m (3.14 MB)\n"
      ]
     },
     "metadata": {},
     "output_type": "display_data"
    },
    {
     "data": {
      "text/html": [
       "<pre style=\"white-space:pre;overflow-x:auto;line-height:normal;font-family:Menlo,'DejaVu Sans Mono',consolas,'Courier New',monospace\"><span style=\"font-weight: bold\"> Trainable params: </span><span style=\"color: #00af00; text-decoration-color: #00af00\">822,465</span> (3.14 MB)\n",
       "</pre>\n"
      ],
      "text/plain": [
       "\u001b[1m Trainable params: \u001b[0m\u001b[38;5;34m822,465\u001b[0m (3.14 MB)\n"
      ]
     },
     "metadata": {},
     "output_type": "display_data"
    },
    {
     "data": {
      "text/html": [
       "<pre style=\"white-space:pre;overflow-x:auto;line-height:normal;font-family:Menlo,'DejaVu Sans Mono',consolas,'Courier New',monospace\"><span style=\"font-weight: bold\"> Non-trainable params: </span><span style=\"color: #00af00; text-decoration-color: #00af00\">0</span> (0.00 B)\n",
       "</pre>\n"
      ],
      "text/plain": [
       "\u001b[1m Non-trainable params: \u001b[0m\u001b[38;5;34m0\u001b[0m (0.00 B)\n"
      ]
     },
     "metadata": {},
     "output_type": "display_data"
    }
   ],
   "source": [
    "model.summary()"
   ]
  },
  {
   "cell_type": "code",
   "execution_count": 49,
   "id": "d1e9b7da",
   "metadata": {},
   "outputs": [],
   "source": [
    "from tensorflow.keras.callbacks import EarlyStopping"
   ]
  },
  {
   "cell_type": "code",
   "execution_count": 50,
   "id": "b4eee040",
   "metadata": {},
   "outputs": [],
   "source": [
    "early_stop = EarlyStopping(monitor='val_loss',patience=2)"
   ]
  },
  {
   "cell_type": "code",
   "execution_count": 51,
   "id": "a4c15c28",
   "metadata": {},
   "outputs": [],
   "source": [
    "batch_size=16"
   ]
  },
  {
   "cell_type": "code",
   "execution_count": 52,
   "id": "5a524813",
   "metadata": {},
   "outputs": [
    {
     "name": "stdout",
     "output_type": "stream",
     "text": [
      "Found 24958 images belonging to 2 classes.\n"
     ]
    }
   ],
   "source": [
    "train_image_gen = image_gen.flow_from_directory(train_path,\n",
    "                                               target_size=image_shape[:2],\n",
    "                                               color_mode='rgb',\n",
    "                                               batch_size=batch_size,\n",
    "                                               class_mode='binary')"
   ]
  },
  {
   "cell_type": "code",
   "execution_count": 54,
   "id": "ebd75874",
   "metadata": {},
   "outputs": [
    {
     "name": "stdout",
     "output_type": "stream",
     "text": [
      "Found 2600 images belonging to 2 classes.\n"
     ]
    }
   ],
   "source": [
    "test_image_gen = image_gen.flow_from_directory(test_path,\n",
    "                                               target_size=image_shape[:2],\n",
    "                                               color_mode='rgb',\n",
    "                                               batch_size=batch_size,\n",
    "                                               class_mode='binary',\n",
    "                                              shuffle=False)"
   ]
  },
  {
   "cell_type": "code",
   "execution_count": 55,
   "id": "f1dbd553",
   "metadata": {},
   "outputs": [
    {
     "data": {
      "text/plain": [
       "{'parasitized': 0, 'uninfected': 1}"
      ]
     },
     "execution_count": 55,
     "metadata": {},
     "output_type": "execute_result"
    }
   ],
   "source": [
    "train_image_gen.class_indices"
   ]
  },
  {
   "cell_type": "code",
   "execution_count": 65,
   "id": "8da92676",
   "metadata": {
    "scrolled": true
   },
   "outputs": [
    {
     "name": "stdout",
     "output_type": "stream",
     "text": [
      "Epoch 1/20\n",
      "\u001b[1m1560/1560\u001b[0m \u001b[32m━━━━━━━━━━━━━━━━━━━━\u001b[0m\u001b[37m\u001b[0m \u001b[1m0s\u001b[0m 166ms/step - accuracy: 0.5661 - loss: 1.4618"
     ]
    },
    {
     "name": "stderr",
     "output_type": "stream",
     "text": [
      "C:\\Users\\hp\\AppData\\Roaming\\Python\\Python311\\site-packages\\keras\\src\\trainers\\data_adapters\\py_dataset_adapter.py:121: UserWarning: Your `PyDataset` class should call `super().__init__(**kwargs)` in its constructor. `**kwargs` can include `workers`, `use_multiprocessing`, `max_queue_size`. Do not pass these arguments to `fit()`, as they will be ignored.\n",
      "  self._warn_if_super_not_called()\n"
     ]
    },
    {
     "name": "stdout",
     "output_type": "stream",
     "text": [
      "\u001b[1m1560/1560\u001b[0m \u001b[32m━━━━━━━━━━━━━━━━━━━━\u001b[0m\u001b[37m\u001b[0m \u001b[1m282s\u001b[0m 179ms/step - accuracy: 0.5661 - loss: 1.4614 - val_accuracy: 0.5362 - val_loss: 0.6893\n",
      "Epoch 2/20\n",
      "\u001b[1m1560/1560\u001b[0m \u001b[32m━━━━━━━━━━━━━━━━━━━━\u001b[0m\u001b[37m\u001b[0m \u001b[1m250s\u001b[0m 160ms/step - accuracy: 0.5703 - loss: 0.6820 - val_accuracy: 0.6008 - val_loss: 0.6694\n",
      "Epoch 3/20\n",
      "\u001b[1m1560/1560\u001b[0m \u001b[32m━━━━━━━━━━━━━━━━━━━━\u001b[0m\u001b[37m\u001b[0m \u001b[1m236s\u001b[0m 151ms/step - accuracy: 0.7060 - loss: 0.5284 - val_accuracy: 0.9235 - val_loss: 0.2350\n",
      "Epoch 4/20\n",
      "\u001b[1m1560/1560\u001b[0m \u001b[32m━━━━━━━━━━━━━━━━━━━━\u001b[0m\u001b[37m\u001b[0m \u001b[1m245s\u001b[0m 157ms/step - accuracy: 0.9336 - loss: 0.2095 - val_accuracy: 0.9338 - val_loss: 0.1997\n",
      "Epoch 5/20\n",
      "\u001b[1m1560/1560\u001b[0m \u001b[32m━━━━━━━━━━━━━━━━━━━━\u001b[0m\u001b[37m\u001b[0m \u001b[1m238s\u001b[0m 152ms/step - accuracy: 0.9335 - loss: 0.2052 - val_accuracy: 0.9396 - val_loss: 0.1804\n",
      "Epoch 6/20\n",
      "\u001b[1m1560/1560\u001b[0m \u001b[32m━━━━━━━━━━━━━━━━━━━━\u001b[0m\u001b[37m\u001b[0m \u001b[1m234s\u001b[0m 150ms/step - accuracy: 0.9434 - loss: 0.1789 - val_accuracy: 0.9431 - val_loss: 0.1747\n",
      "Epoch 7/20\n",
      "\u001b[1m1560/1560\u001b[0m \u001b[32m━━━━━━━━━━━━━━━━━━━━\u001b[0m\u001b[37m\u001b[0m \u001b[1m234s\u001b[0m 150ms/step - accuracy: 0.9454 - loss: 0.1727 - val_accuracy: 0.9454 - val_loss: 0.1583\n",
      "Epoch 8/20\n",
      "\u001b[1m1560/1560\u001b[0m \u001b[32m━━━━━━━━━━━━━━━━━━━━\u001b[0m\u001b[37m\u001b[0m \u001b[1m979s\u001b[0m 627ms/step - accuracy: 0.9466 - loss: 0.1709 - val_accuracy: 0.9458 - val_loss: 0.1721\n",
      "Epoch 9/20\n",
      "\u001b[1m1560/1560\u001b[0m \u001b[32m━━━━━━━━━━━━━━━━━━━━\u001b[0m\u001b[37m\u001b[0m \u001b[1m270s\u001b[0m 172ms/step - accuracy: 0.9482 - loss: 0.1712 - val_accuracy: 0.9419 - val_loss: 0.1750\n"
     ]
    }
   ],
   "source": [
    "results = model.fit(train_image_gen,epochs=20,\n",
    "                             validation_data=test_image_gen,\n",
    "                             callbacks=[early_stop])\n"
   ]
  },
  {
   "cell_type": "code",
   "execution_count": 66,
   "id": "e25436ea",
   "metadata": {},
   "outputs": [],
   "source": [
    "from tensorflow.keras.models import load_model"
   ]
  },
  {
   "cell_type": "code",
   "execution_count": 68,
   "id": "3e25002e",
   "metadata": {},
   "outputs": [
    {
     "data": {
      "text/html": [
       "<div>\n",
       "<style scoped>\n",
       "    .dataframe tbody tr th:only-of-type {\n",
       "        vertical-align: middle;\n",
       "    }\n",
       "\n",
       "    .dataframe tbody tr th {\n",
       "        vertical-align: top;\n",
       "    }\n",
       "\n",
       "    .dataframe thead th {\n",
       "        text-align: right;\n",
       "    }\n",
       "</style>\n",
       "<table border=\"1\" class=\"dataframe\">\n",
       "  <thead>\n",
       "    <tr style=\"text-align: right;\">\n",
       "      <th></th>\n",
       "      <th>accuracy</th>\n",
       "      <th>loss</th>\n",
       "      <th>val_accuracy</th>\n",
       "      <th>val_loss</th>\n",
       "    </tr>\n",
       "  </thead>\n",
       "  <tbody>\n",
       "    <tr>\n",
       "      <th>0</th>\n",
       "      <td>0.562946</td>\n",
       "      <td>0.799887</td>\n",
       "      <td>0.536154</td>\n",
       "      <td>0.689336</td>\n",
       "    </tr>\n",
       "    <tr>\n",
       "      <th>1</th>\n",
       "      <td>0.573804</td>\n",
       "      <td>0.679670</td>\n",
       "      <td>0.600769</td>\n",
       "      <td>0.669384</td>\n",
       "    </tr>\n",
       "    <tr>\n",
       "      <th>2</th>\n",
       "      <td>0.822462</td>\n",
       "      <td>0.373501</td>\n",
       "      <td>0.923462</td>\n",
       "      <td>0.234994</td>\n",
       "    </tr>\n",
       "    <tr>\n",
       "      <th>3</th>\n",
       "      <td>0.935612</td>\n",
       "      <td>0.205439</td>\n",
       "      <td>0.933846</td>\n",
       "      <td>0.199701</td>\n",
       "    </tr>\n",
       "    <tr>\n",
       "      <th>4</th>\n",
       "      <td>0.937455</td>\n",
       "      <td>0.197922</td>\n",
       "      <td>0.939615</td>\n",
       "      <td>0.180380</td>\n",
       "    </tr>\n",
       "    <tr>\n",
       "      <th>5</th>\n",
       "      <td>0.944266</td>\n",
       "      <td>0.179029</td>\n",
       "      <td>0.943077</td>\n",
       "      <td>0.174683</td>\n",
       "    </tr>\n",
       "    <tr>\n",
       "      <th>6</th>\n",
       "      <td>0.945188</td>\n",
       "      <td>0.173678</td>\n",
       "      <td>0.945385</td>\n",
       "      <td>0.158318</td>\n",
       "    </tr>\n",
       "    <tr>\n",
       "      <th>7</th>\n",
       "      <td>0.945268</td>\n",
       "      <td>0.173795</td>\n",
       "      <td>0.945769</td>\n",
       "      <td>0.172135</td>\n",
       "    </tr>\n",
       "    <tr>\n",
       "      <th>8</th>\n",
       "      <td>0.946069</td>\n",
       "      <td>0.173383</td>\n",
       "      <td>0.941923</td>\n",
       "      <td>0.174998</td>\n",
       "    </tr>\n",
       "  </tbody>\n",
       "</table>\n",
       "</div>"
      ],
      "text/plain": [
       "   accuracy      loss  val_accuracy  val_loss\n",
       "0  0.562946  0.799887      0.536154  0.689336\n",
       "1  0.573804  0.679670      0.600769  0.669384\n",
       "2  0.822462  0.373501      0.923462  0.234994\n",
       "3  0.935612  0.205439      0.933846  0.199701\n",
       "4  0.937455  0.197922      0.939615  0.180380\n",
       "5  0.944266  0.179029      0.943077  0.174683\n",
       "6  0.945188  0.173678      0.945385  0.158318\n",
       "7  0.945268  0.173795      0.945769  0.172135\n",
       "8  0.946069  0.173383      0.941923  0.174998"
      ]
     },
     "execution_count": 68,
     "metadata": {},
     "output_type": "execute_result"
    }
   ],
   "source": [
    "pd.DataFrame(model.history.history)"
   ]
  },
  {
   "cell_type": "code",
   "execution_count": 69,
   "id": "ca5a1e89",
   "metadata": {},
   "outputs": [
    {
     "name": "stdout",
     "output_type": "stream",
     "text": [
      "\u001b[1m163/163\u001b[0m \u001b[32m━━━━━━━━━━━━━━━━━━━━\u001b[0m\u001b[37m\u001b[0m \u001b[1m14s\u001b[0m 84ms/step - accuracy: 0.9244 - loss: 0.2097\n"
     ]
    },
    {
     "data": {
      "text/plain": [
       "[0.1743622124195099, 0.9438461661338806]"
      ]
     },
     "execution_count": 69,
     "metadata": {},
     "output_type": "execute_result"
    }
   ],
   "source": [
    "model.evaluate(test_image_gen)"
   ]
  },
  {
   "cell_type": "code",
   "execution_count": 70,
   "id": "e62b655c",
   "metadata": {},
   "outputs": [
    {
     "data": {
      "text/plain": [
       "['loss', 'compile_metrics']"
      ]
     },
     "execution_count": 70,
     "metadata": {},
     "output_type": "execute_result"
    }
   ],
   "source": [
    "model.metrics_names"
   ]
  },
  {
   "cell_type": "code",
   "execution_count": 71,
   "id": "fdb18a04",
   "metadata": {},
   "outputs": [
    {
     "name": "stdout",
     "output_type": "stream",
     "text": [
      "\u001b[1m163/163\u001b[0m \u001b[32m━━━━━━━━━━━━━━━━━━━━\u001b[0m\u001b[37m\u001b[0m \u001b[1m24s\u001b[0m 147ms/step\n"
     ]
    }
   ],
   "source": [
    "pred = model.predict(test_image_gen)"
   ]
  },
  {
   "cell_type": "code",
   "execution_count": 75,
   "id": "9f0adb48",
   "metadata": {},
   "outputs": [],
   "source": [
    "predictions = pred > 0.5"
   ]
  },
  {
   "cell_type": "code",
   "execution_count": 77,
   "id": "dd9184ed",
   "metadata": {},
   "outputs": [
    {
     "data": {
      "text/plain": [
       "array([[False],\n",
       "       [False],\n",
       "       [False],\n",
       "       ...,\n",
       "       [ True],\n",
       "       [ True],\n",
       "       [ True]])"
      ]
     },
     "execution_count": 77,
     "metadata": {},
     "output_type": "execute_result"
    }
   ],
   "source": [
    "predictions"
   ]
  },
  {
   "cell_type": "code",
   "execution_count": 80,
   "id": "9bbf775e",
   "metadata": {},
   "outputs": [
    {
     "data": {
      "text/plain": [
       "2600"
      ]
     },
     "execution_count": 80,
     "metadata": {},
     "output_type": "execute_result"
    }
   ],
   "source": [
    "len(pred)"
   ]
  },
  {
   "cell_type": "code",
   "execution_count": 84,
   "id": "fd3edcc2",
   "metadata": {},
   "outputs": [
    {
     "data": {
      "text/plain": [
       "array([0, 0, 0, ..., 1, 1, 1])"
      ]
     },
     "execution_count": 84,
     "metadata": {},
     "output_type": "execute_result"
    }
   ],
   "source": [
    "test_image_gen.classes"
   ]
  },
  {
   "cell_type": "code",
   "execution_count": 81,
   "id": "b48b6bd0",
   "metadata": {},
   "outputs": [],
   "source": [
    "from sklearn.metrics import classification_report,confusion_matrix"
   ]
  },
  {
   "cell_type": "code",
   "execution_count": 82,
   "id": "43ec0680",
   "metadata": {},
   "outputs": [
    {
     "name": "stdout",
     "output_type": "stream",
     "text": [
      "              precision    recall  f1-score   support\n",
      "\n",
      "           0       0.96      0.92      0.94      1300\n",
      "           1       0.93      0.96      0.94      1300\n",
      "\n",
      "    accuracy                           0.94      2600\n",
      "   macro avg       0.94      0.94      0.94      2600\n",
      "weighted avg       0.94      0.94      0.94      2600\n",
      "\n"
     ]
    }
   ],
   "source": [
    "print(classification_report(test_image_gen.classes,predictions))"
   ]
  },
  {
   "cell_type": "code",
   "execution_count": 85,
   "id": "8f52a602",
   "metadata": {},
   "outputs": [
    {
     "data": {
      "text/plain": [
       "array([[1199,  101],\n",
       "       [  46, 1254]], dtype=int64)"
      ]
     },
     "execution_count": 85,
     "metadata": {},
     "output_type": "execute_result"
    }
   ],
   "source": [
    "confusion_matrix(test_image_gen.classes,predictions)"
   ]
  },
  {
   "cell_type": "code",
   "execution_count": 86,
   "id": "a1567e14",
   "metadata": {},
   "outputs": [],
   "source": [
    "prediction = pred > 0.80"
   ]
  },
  {
   "cell_type": "code",
   "execution_count": 87,
   "id": "aa825df2",
   "metadata": {},
   "outputs": [
    {
     "name": "stdout",
     "output_type": "stream",
     "text": [
      "              precision    recall  f1-score   support\n",
      "\n",
      "           0       0.94      0.94      0.94      1300\n",
      "           1       0.94      0.94      0.94      1300\n",
      "\n",
      "    accuracy                           0.94      2600\n",
      "   macro avg       0.94      0.94      0.94      2600\n",
      "weighted avg       0.94      0.94      0.94      2600\n",
      "\n"
     ]
    }
   ],
   "source": [
    "print(classification_report(test_image_gen.classes,prediction))"
   ]
  },
  {
   "cell_type": "code",
   "execution_count": 88,
   "id": "46a633f4",
   "metadata": {},
   "outputs": [],
   "source": [
    "from tensorflow.keras.preprocessing import image"
   ]
  },
  {
   "cell_type": "code",
   "execution_count": 90,
   "id": "b12cb203",
   "metadata": {},
   "outputs": [],
   "source": [
    "my_image = image.load_img(para_cell,target_size=image_shape)"
   ]
  },
  {
   "cell_type": "code",
   "execution_count": 91,
   "id": "d1519b54",
   "metadata": {},
   "outputs": [
    {
     "data": {
      "image/jpeg": "[encoded data removed]",
      "image/png": "[encoded data removed]",
      "text/plain": [
       "<PIL.Image.Image image mode=RGB size=130x130>"
      ]
     },
     "execution_count": 91,
     "metadata": {},
     "output_type": "execute_result"
    }
   ],
   "source": [
    "my_image"
   ]
  },
  {
   "cell_type": "code",
   "execution_count": 92,
   "id": "b0ce55c3",
   "metadata": {},
   "outputs": [],
   "source": [
    "my_image_arr = image.img_to_array(my_image)"
   ]
  },
  {
   "cell_type": "code",
   "execution_count": 93,
   "id": "2ebd92d0",
   "metadata": {},
   "outputs": [
    {
     "data": {
      "image/jpeg": "[encoded data removed]",
      "image/png": "[encoded data removed]",
      "text/plain": [
       "<PIL.Image.Image image mode=RGB size=130x130>"
      ]
     },
     "execution_count": 93,
     "metadata": {},
     "output_type": "execute_result"
    }
   ],
   "source": [
    "my_image"
   ]
  },
  {
   "cell_type": "code",
   "execution_count": 95,
   "id": "b20af002",
   "metadata": {},
   "outputs": [
    {
     "data": {
      "text/plain": [
       "(130, 130, 3)"
      ]
     },
     "execution_count": 95,
     "metadata": {},
     "output_type": "execute_result"
    }
   ],
   "source": [
    "my_image_arr.shape"
   ]
  },
  {
   "cell_type": "code",
   "execution_count": 96,
   "id": "5547e8e2",
   "metadata": {},
   "outputs": [],
   "source": [
    "my_image_arr = np.expand_dims(my_image_arr,axis=0)"
   ]
  },
  {
   "cell_type": "code",
   "execution_count": 98,
   "id": "3856d5c8",
   "metadata": {},
   "outputs": [
    {
     "data": {
      "text/plain": [
       "(1, 130, 130, 3)"
      ]
     },
     "execution_count": 98,
     "metadata": {},
     "output_type": "execute_result"
    }
   ],
   "source": [
    "my_image_arr.shape"
   ]
  },
  {
   "cell_type": "code",
   "execution_count": 102,
   "id": "18d229b2",
   "metadata": {},
   "outputs": [
    {
     "name": "stdout",
     "output_type": "stream",
     "text": [
      "\u001b[1m1/1\u001b[0m \u001b[32m━━━━━━━━━━━━━━━━━━━━\u001b[0m\u001b[37m\u001b[0m \u001b[1m0s\u001b[0m 35ms/step\n"
     ]
    },
    {
     "data": {
      "text/plain": [
       "array([[False]])"
      ]
     },
     "execution_count": 102,
     "metadata": {},
     "output_type": "execute_result"
    }
   ],
   "source": [
    "model.predict(my_image_arr) > 0.8"
   ]
  },
  {
   "cell_type": "code",
   "execution_count": 103,
   "id": "ffccf299",
   "metadata": {},
   "outputs": [
    {
     "data": {
      "text/plain": [
       "array([[3.5890820e-04],\n",
       "       [1.1371122e-05],\n",
       "       [2.1161037e-04],\n",
       "       ...,\n",
       "       [9.5753372e-01],\n",
       "       [9.6191925e-01],\n",
       "       [9.7219419e-01]], dtype=float32)"
      ]
     },
     "execution_count": 103,
     "metadata": {},
     "output_type": "execute_result"
    }
   ],
   "source": [
    "pred"
   ]
  },
  {
   "cell_type": "code",
   "execution_count": null,
   "id": "1ad3faa9",
   "metadata": {},
   "outputs": [],
   "source": []
  }
 ],
 "metadata": {
  "kernelspec": {
   "display_name": "Python 3 (ipykernel)",
   "language": "python",
   "name": "python3"
  },
  "language_info": {
   "codemirror_mode": {
    "name": "ipython",
    "version": 3
   },
   "file_extension": ".py",
   "mimetype": "text/x-python",
   "name": "python",
   "nbconvert_exporter": "python",
   "pygments_lexer": "ipython3",
   "version": "3.11.4"
  }
 },
 "nbformat": 4,
 "nbformat_minor": 5
}
